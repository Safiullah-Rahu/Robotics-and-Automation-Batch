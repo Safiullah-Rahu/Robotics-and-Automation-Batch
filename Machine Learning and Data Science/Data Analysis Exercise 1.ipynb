{
 "cells": [
  {
   "cell_type": "markdown",
   "id": "6cce0efc",
   "metadata": {},
   "source": [
    "# Data Analysis and Manipulation Exercise For Machine Learning Module Series "
   ]
  },
  {
   "cell_type": "markdown",
   "id": "c951da21",
   "metadata": {},
   "source": [
    "# Getting Started\n",
    "\n",
    "Before we get started with data analysis, we need to ensure that we have Python and the necessary libraries installed. Python can be downloaded from the official website (https://www.python.org/downloads/). We will also be using the following Python libraries:\n",
    "\n",
    "- NumPy: Used for numerical computations and operations on arrays.\n",
    "- Pandas: Used for data manipulation and analysis.\n",
    "- Matplotlib: Used for data visualization.\n",
    "- Seaborn: A library built on top of Matplotlib for enhanced data visualization.\n",
    "\n",
    "These libraries can be installed using pip. Open the command prompt and type the following commands:"
   ]
  },
  {
   "cell_type": "code",
   "execution_count": null,
   "id": "851a74ba",
   "metadata": {},
   "outputs": [],
   "source": [
    "pip install numpy\n",
    "pip install pandas\n",
    "pip install matplotlib\n",
    "pip install seaborn"
   ]
  },
  {
   "cell_type": "markdown",
   "id": "3bf19741",
   "metadata": {},
   "source": [
    "Once we have installed the necessary libraries, we can begin with the data analysis."
   ]
  },
  {
   "cell_type": "markdown",
   "id": "5d3a2da6",
   "metadata": {},
   "source": [
    "## Loading Data\n",
    "The first step in data analysis is loading the data. We will be using a dataset from Kaggle that contains information about the Titanic passengers. The dataset can be downloaded from the following link: https://www.kaggle.com/c/titanic/data\n",
    "\n",
    "Save the downloaded file in a folder on your computer. In this tutorial, we assume that the file is saved in a folder named `data` and the file name is `train.csv`.\n",
    "\n",
    "We will be using the Pandas library to load the data. Open a new Python file and type the following code:"
   ]
  },
  {
   "cell_type": "code",
   "execution_count": 1,
   "id": "833990c3",
   "metadata": {},
   "outputs": [
    {
     "data": {
      "text/plain": [
       "Ellipsis"
      ]
     },
     "execution_count": 1,
     "metadata": {},
     "output_type": "execute_result"
    }
   ],
   "source": [
    "import pandas as pd\n",
    "\n",
    "# Write code to load the data\n",
    "...\n",
    "\n",
    "# Write code to print the first 5 rows of the data\n",
    "...\n"
   ]
  },
  {
   "cell_type": "markdown",
   "id": "537935ba",
   "metadata": {},
   "source": [
    "The code above imports the Pandas library and loads the data from the CSV file using the `read_csv()` method. The `head()` method is then used to print the first 5 rows of the data."
   ]
  },
  {
   "cell_type": "markdown",
   "id": "c85af92e",
   "metadata": {},
   "source": [
    "## Cleaning Data\n",
    "Once we have loaded the data, we need to clean it to remove any missing or incorrect data. In this tutorial, we will be removing the `Cabin` column and any rows with missing data."
   ]
  },
  {
   "cell_type": "code",
   "execution_count": 2,
   "id": "ed4a9b3d",
   "metadata": {},
   "outputs": [],
   "source": [
    "# Write code to remove the 'Cabin' column\n",
    "...\n",
    "\n",
    "# Write code to remove any rows with missing data\n",
    "...\n"
   ]
  },
  {
   "cell_type": "markdown",
   "id": "dac9bc67",
   "metadata": {},
   "source": [
    "The code above removes the `Cabin` column using the `drop()` method and the `axis` parameter set to 1 to indicate that we want to remove a column. The `dropna()` method is then used to remove any rows with missing data."
   ]
  },
  {
   "cell_type": "markdown",
   "id": "cb6f2857",
   "metadata": {},
   "source": [
    "## Exploratory Data Analysis\n",
    "Now that we have cleaned the data, we can perform exploratory data analysis (EDA) to gain insights into the data. In this module, we will be using the Matplotlib and Seaborn libraries to create visualizations.\n",
    "\n",
    "### Visualizing Numeric Data\n",
    "To visualize the distribution of the numeric data, we can use a histogram. \n",
    "\n",
    "**Write code to create a histogram of the `Age` column:**"
   ]
  },
  {
   "cell_type": "code",
   "execution_count": 3,
   "id": "f080ef58",
   "metadata": {},
   "outputs": [
    {
     "data": {
      "text/plain": [
       "Ellipsis"
      ]
     },
     "execution_count": 3,
     "metadata": {},
     "output_type": "execute_result"
    }
   ],
   "source": [
    "import matplotlib.pyplot as plt\n",
    "\n",
    "# Write code to create a histogram of the 'Age' column\n",
    "..."
   ]
  },
  {
   "cell_type": "markdown",
   "id": "f838a78e",
   "metadata": {},
   "source": [
    "The `hist()` method is used to create the histogram, and the 'bins' parameter is set to 20 to create 20 bins. The `xlabel()` and `ylabel()` methods are used to set the labels for the x-axis and y-axis, respectively."
   ]
  },
  {
   "cell_type": "markdown",
   "id": "953a5eb4",
   "metadata": {},
   "source": [
    "### Visualizing Categorical Data\n",
    "To visualize the distribution of the categorical data, we can use a bar chart. \n",
    "\n",
    "**Write code to create a bar chart of the `Sex` column:**"
   ]
  },
  {
   "cell_type": "code",
   "execution_count": 4,
   "id": "9fa9b8c9",
   "metadata": {},
   "outputs": [
    {
     "data": {
      "text/plain": [
       "Ellipsis"
      ]
     },
     "execution_count": 4,
     "metadata": {},
     "output_type": "execute_result"
    }
   ],
   "source": [
    "import seaborn as sns\n",
    "\n",
    "# Write code to create a bar chart of the 'Sex' column\n",
    "..."
   ]
  },
  {
   "cell_type": "markdown",
   "id": "acde82d7",
   "metadata": {},
   "source": [
    "The `countplot()` method from the Seaborn library is used to create the bar chart, and the `x` parameter is set to `Sex` to indicate that we want to create a bar chart of the `Sex` column."
   ]
  },
  {
   "cell_type": "markdown",
   "id": "964eca08",
   "metadata": {},
   "source": [
    "### Visualizing Relationships Between Variables\n",
    "To visualize the relationships between variables, we can use scatter plots. \n",
    "\n",
    "**Write code to create a scatter plot of the `Age` column and the `Fare` column:**"
   ]
  },
  {
   "cell_type": "code",
   "execution_count": 5,
   "id": "27e12831",
   "metadata": {},
   "outputs": [],
   "source": [
    "# Write code to create a scatter plot of the 'Age' and 'Fare' columns\n",
    "..."
   ]
  },
  {
   "cell_type": "markdown",
   "id": "f89e2ed7",
   "metadata": {},
   "source": [
    "The `scatter()` method is used to create the scatter plot, and the `x` parameter is set to `Age` and the `y` parameter is set to `Fare` to indicate that we want to create a scatter plot of these two columns."
   ]
  },
  {
   "cell_type": "markdown",
   "id": "50cccb85",
   "metadata": {},
   "source": [
    "## Data Preprocessing\n",
    "Before we can build a machine learning model, we need to preprocess the data. In this module, we will be converting the categorical data into numerical data and splitting the data into training and testing sets."
   ]
  },
  {
   "cell_type": "markdown",
   "id": "e5e5e32d",
   "metadata": {},
   "source": [
    "### Converting Categorical Data into Numerical Data\n",
    "To convert the categorical data into numerical data, we can use the `get_dummies()` method from the Pandas library. \n",
    "\n",
    "**Write code to convert the `Sex` column into numerical data:**"
   ]
  },
  {
   "cell_type": "code",
   "execution_count": 6,
   "id": "36c0d902",
   "metadata": {},
   "outputs": [],
   "source": [
    "# Write code to convert the 'Sex' column into numerical data\n",
    "..."
   ]
  },
  {
   "cell_type": "markdown",
   "id": "c12a30f0",
   "metadata": {},
   "source": [
    "The `get_dummies()` method is used to convert the `Sex` column into numerical data, and the `columns` parameter is set to `Sex` to indicate that we want to convert the `Sex` column."
   ]
  },
  {
   "cell_type": "markdown",
   "id": "3d6b5ad6",
   "metadata": {},
   "source": [
    "### Splitting the Data into Training and Testing Sets\n",
    "To build a machine learning model, we need to split the data into training and testing sets. \n",
    "\n",
    "**Write code to split the data into a training set and a testing set:**"
   ]
  },
  {
   "cell_type": "code",
   "execution_count": null,
   "id": "c0dfe908",
   "metadata": {},
   "outputs": [],
   "source": [
    "from sklearn.model_selection import train_test_split\n",
    "\n",
    "# Split the data into a training set and a testing set\n",
    "X = data.drop(['Survived', 'Name', 'Ticket', 'Embarked'], axis=1)\n",
    "y = data['Survived']\n",
    "X_train, X_test, y_train, y_test = train_test_split(X, y, test_size=0.2)"
   ]
  },
  {
   "cell_type": "markdown",
   "id": "8d431539",
   "metadata": {},
   "source": [
    "The `train_test_split()` method from the scikit-learn library is used to split the data into a training set and a testing set. The `test_size` parameter is set to 0.2 to indicate that we want to use 20% of the data for testing.\n",
    "\n",
    "The `X` variable contains the features, and the `y` variable contains the target variable. The `drop()` method is used to remove the `Survived`, `Name`, `Ticket`, and `Embarked` columns from the `X` variable."
   ]
  },
  {
   "cell_type": "markdown",
   "id": "5b7937d8",
   "metadata": {},
   "source": [
    "## Building a Machine Learning Model\n",
    "Now that we have preprocessed the data, we can build a machine learning model. In this module, we will be using the scikit-learn library to build a logistic regression model."
   ]
  },
  {
   "cell_type": "code",
   "execution_count": null,
   "id": "b9448e0f",
   "metadata": {},
   "outputs": [],
   "source": [
    "from sklearn.linear_model import LogisticRegression\n",
    "from sklearn.metrics import accuracy_score\n",
    "\n",
    "# Build a logistic regression model\n",
    "model = LogisticRegression()\n",
    "model.fit(X_train, y_train)\n",
    "\n",
    "# Make predictions on the testing set\n",
    "y_pred = model.predict(X_test)\n",
    "\n",
    "# Print the accuracy score\n",
    "print('Accuracy:', accuracy_score(y_test, y_pred))"
   ]
  },
  {
   "cell_type": "markdown",
   "id": "825b147f",
   "metadata": {},
   "source": [
    "The `LogisticRegression()` method is used to build the logistic regression model, and the `fit()` method is used to train the model on the training set. The `predict()` method is then used to make predictions on the testing set.\n",
    "\n",
    "The `accuracy_score` method from the scikit-learn library is used to calculate the accuracy of the model."
   ]
  },
  {
   "cell_type": "markdown",
   "id": "08d8c403",
   "metadata": {},
   "source": [
    "## Conclusion\n",
    "In this module, we have learned how to perform data analysis using Python. We started by loading the data into a Pandas DataFrame, and then we explored the data using various data visualization techniques. We then preprocessed the data by converting the categorical data into numerical data and splitting the data into training and testing sets. Finally, we built a machine learning model using logistic regression and evaluated the model's accuracy.\n",
    "\n",
    "This module covers only the basics of data analysis and machine learning using Python. There are many more techniques and libraries available in Python for data analysis, and you can further explore them to perform more advanced analyses."
   ]
  },
  {
   "cell_type": "code",
   "execution_count": null,
   "id": "ee384a09",
   "metadata": {},
   "outputs": [],
   "source": []
  }
 ],
 "metadata": {
  "kernelspec": {
   "display_name": "Python 3 (ipykernel)",
   "language": "python",
   "name": "python3"
  },
  "language_info": {
   "codemirror_mode": {
    "name": "ipython",
    "version": 3
   },
   "file_extension": ".py",
   "mimetype": "text/x-python",
   "name": "python",
   "nbconvert_exporter": "python",
   "pygments_lexer": "ipython3",
   "version": "3.8.0"
  }
 },
 "nbformat": 4,
 "nbformat_minor": 5
}
