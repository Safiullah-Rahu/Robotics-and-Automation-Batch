{
 "cells": [
  {
   "cell_type": "markdown",
   "id": "b23053f2",
   "metadata": {},
   "source": [
    "# Data Analysis and Manipulation Exercise For Machine Learning Module Series "
   ]
  },
  {
   "cell_type": "markdown",
   "id": "8ee4ac5f",
   "metadata": {},
   "source": [
    "# Getting Started\n",
    "\n",
    "In this module, we will perform data analysis on the Netflix series using Python. We will be using the Pandas library to load and analyze the data and the Seaborn library for data visualization."
   ]
  },
  {
   "cell_type": "markdown",
   "id": "99ecd730",
   "metadata": {},
   "source": [
    "## Dataset\n",
    "We will be using the \"Netflix Movies and TV Shows\" dataset from Kaggle. The dataset contains information about movies and TV shows available on Netflix as of 2019. The dataset can be downloaded from the following link: https://www.kaggle.com/shivamb/netflix-shows.\n",
    "\n",
    "### Loading the Data\n",
    "To load the data into a Pandas DataFrame, we will use the `read_csv()` method. \n",
    "\n",
    "**Write code to load the data into a DataFrame:**"
   ]
  },
  {
   "cell_type": "code",
   "execution_count": 1,
   "id": "2d770a99",
   "metadata": {},
   "outputs": [
    {
     "data": {
      "text/plain": [
       "Ellipsis"
      ]
     },
     "execution_count": 1,
     "metadata": {},
     "output_type": "execute_result"
    }
   ],
   "source": [
    "import pandas as pd\n",
    "\n",
    "# Load the data into a DataFrame\n",
    "...\n"
   ]
  },
  {
   "cell_type": "markdown",
   "id": "e8462d3d",
   "metadata": {},
   "source": [
    "### Exploring the Data\n",
    "To explore the data, we can use various Pandas methods. \n",
    "\n",
    "**Write code to display the first five rows of the DataFrame:**"
   ]
  },
  {
   "cell_type": "code",
   "execution_count": 2,
   "id": "bcc68066",
   "metadata": {},
   "outputs": [],
   "source": [
    "# Display the first five rows of the DataFrame\n",
    "..."
   ]
  },
  {
   "cell_type": "markdown",
   "id": "0a5b4cb1",
   "metadata": {},
   "source": [
    "The `head()` method is used to display the first five rows of the DataFrame."
   ]
  },
  {
   "cell_type": "markdown",
   "id": "0c294d63",
   "metadata": {},
   "source": [
    "### Data Cleaning\n",
    "Before we can analyze the data, we need to clean the data. \n",
    "\n",
    "**Write code to drop the columns that are not required: e.g., ['show_id', 'description', 'date_added']**"
   ]
  },
  {
   "cell_type": "code",
   "execution_count": 3,
   "id": "ec9789d0",
   "metadata": {},
   "outputs": [],
   "source": [
    "# Drop the columns that are not required\n",
    "..."
   ]
  },
  {
   "cell_type": "markdown",
   "id": "297f5658",
   "metadata": {},
   "source": [
    "The `drop()` method is used to drop the `show_id`, `description`, and `date_added` columns.\n",
    "\n",
    "**Write code to display the number of missing values in each column:**"
   ]
  },
  {
   "cell_type": "code",
   "execution_count": 4,
   "id": "bf639401",
   "metadata": {},
   "outputs": [],
   "source": [
    "# Display the number of missing values in each column\n",
    "..."
   ]
  },
  {
   "cell_type": "markdown",
   "id": "c1b78f79",
   "metadata": {},
   "source": [
    "The `isnull()` method is used to find the missing values, and the `sum()` method is used to find the number of missing values in each column."
   ]
  },
  {
   "cell_type": "markdown",
   "id": "b5b88c5b",
   "metadata": {},
   "source": [
    "### Data Visualization\n",
    "To visualize the data, we can use various Seaborn methods. \n",
    "\n",
    "**Write code to create a bar chart of the number of TV shows and movies:**"
   ]
  },
  {
   "cell_type": "code",
   "execution_count": 6,
   "id": "0f4c3b6c",
   "metadata": {},
   "outputs": [
    {
     "data": {
      "text/plain": [
       "Ellipsis"
      ]
     },
     "execution_count": 6,
     "metadata": {},
     "output_type": "execute_result"
    }
   ],
   "source": [
    "import seaborn as sns\n",
    "import matplotlib.pyplot as plt\n",
    "\n",
    "# Create a bar chart of the number of TV shows and movies\n",
    "..."
   ]
  },
  {
   "cell_type": "markdown",
   "id": "60d06b45",
   "metadata": {},
   "source": [
    "The `countplot()` method from the Seaborn library is used to create the bar chart, and the `x` parameter is set to `type` to indicate that we want to create a bar chart of the `type` column.\n",
    "\n",
    "**Write code to create a scatter plot of the release year and the duration of the movies:**"
   ]
  },
  {
   "cell_type": "code",
   "execution_count": 7,
   "id": "b57e61e0",
   "metadata": {},
   "outputs": [],
   "source": [
    "# Create a scatter plot of the release year and the duration of the movies\n",
    "..."
   ]
  },
  {
   "cell_type": "markdown",
   "id": "58363ac1",
   "metadata": {},
   "source": [
    "The `scatterplot()` method from the Seaborn library is used to create the scatter plot. The `x` parameter is set to `release_year`, the `y` parameter is set to `duration`, and the `data` parameter is set to a subset of the data that contains only movies."
   ]
  },
  {
   "cell_type": "markdown",
   "id": "8885adde",
   "metadata": {},
   "source": [
    "## Conclusion\n",
    "In this module, we performed data analysis on the Netflix series using Python. We started by loading the data into a Pandas DataFrame, and then we explored the data using various data visualization techniques. We then cleaned the data by dropping the columns that are not required and removing the missing values. Finally, we visualized the data by creating a bar chart of the number of TV shows and movies and a scatter plot of the release year and the duration of the movies.\n",
    "\n",
    "This module covers only the basics of data analysis using Python. There are many more techniques and libraries available in Python for data analysis, and you can further"
   ]
  },
  {
   "cell_type": "code",
   "execution_count": null,
   "id": "42284028",
   "metadata": {},
   "outputs": [],
   "source": []
  }
 ],
 "metadata": {
  "kernelspec": {
   "display_name": "Python 3 (ipykernel)",
   "language": "python",
   "name": "python3"
  },
  "language_info": {
   "codemirror_mode": {
    "name": "ipython",
    "version": 3
   },
   "file_extension": ".py",
   "mimetype": "text/x-python",
   "name": "python",
   "nbconvert_exporter": "python",
   "pygments_lexer": "ipython3",
   "version": "3.8.0"
  }
 },
 "nbformat": 4,
 "nbformat_minor": 5
}
