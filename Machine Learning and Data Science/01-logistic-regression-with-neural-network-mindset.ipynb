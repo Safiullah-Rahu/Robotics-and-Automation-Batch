{
 "cells": [
  {
   "cell_type": "code",
   "execution_count": 1,
   "metadata": {
    "_cell_guid": "79c7e3d0-c299-4dcb-8224-4455121ee9b0",
    "_uuid": "d629ff2d2480ee46fbb7e2d37f6b5fab8052498a",
    "execution": {
     "iopub.execute_input": "2020-08-27T14:13:13.008810Z",
     "iopub.status.busy": "2020-08-27T14:13:13.007795Z",
     "iopub.status.idle": "2020-08-27T14:13:13.325397Z",
     "shell.execute_reply": "2020-08-27T14:13:13.324573Z"
    },
    "papermill": {
     "duration": 0.349245,
     "end_time": "2020-08-27T14:13:13.325551",
     "exception": false,
     "start_time": "2020-08-27T14:13:12.976306",
     "status": "completed"
    },
    "tags": []
   },
   "outputs": [
    {
     "ename": "ModuleNotFoundError",
     "evalue": "No module named 'lr_utils'",
     "output_type": "error",
     "traceback": [
      "\u001b[1;31m---------------------------------------------------------------------------\u001b[0m",
      "\u001b[1;31mModuleNotFoundError\u001b[0m                       Traceback (most recent call last)",
      "Cell \u001b[1;32mIn[1], line 8\u001b[0m\n\u001b[0;32m      6\u001b[0m \u001b[38;5;28;01mfrom\u001b[39;00m \u001b[38;5;21;01mPIL\u001b[39;00m \u001b[38;5;28;01mimport\u001b[39;00m Image\n\u001b[0;32m      7\u001b[0m \u001b[38;5;28;01mfrom\u001b[39;00m \u001b[38;5;21;01mscipy\u001b[39;00m \u001b[38;5;28;01mimport\u001b[39;00m ndimage\n\u001b[1;32m----> 8\u001b[0m \u001b[38;5;28;01mfrom\u001b[39;00m \u001b[38;5;21;01mlr_utils\u001b[39;00m \u001b[38;5;28;01mimport\u001b[39;00m load_dataset\n\u001b[0;32m     10\u001b[0m get_ipython()\u001b[38;5;241m.\u001b[39mrun_line_magic(\u001b[38;5;124m'\u001b[39m\u001b[38;5;124mmatplotlib\u001b[39m\u001b[38;5;124m'\u001b[39m, \u001b[38;5;124m'\u001b[39m\u001b[38;5;124minline\u001b[39m\u001b[38;5;124m'\u001b[39m)\n",
      "\u001b[1;31mModuleNotFoundError\u001b[0m: No module named 'lr_utils'"
     ]
    }
   ],
   "source": [
    "import numpy as np # linear algebra\n",
    "import pandas as pd # data processing, CSV file I/O (e.g. pd.read_csv)\n",
    "import matplotlib.pyplot as plt\n",
    "import h5py\n",
    "import scipy\n",
    "from PIL import Image\n",
    "from scipy import ndimage\n",
    "from lr_utils import load_dataset\n",
    "\n",
    "%matplotlib inline"
   ]
  },
  {
   "cell_type": "code",
   "execution_count": 2,
   "metadata": {
    "execution": {
     "iopub.execute_input": "2020-08-27T14:13:13.396170Z",
     "iopub.status.busy": "2020-08-27T14:13:13.376230Z",
     "iopub.status.idle": "2020-08-27T14:13:13.415981Z",
     "shell.execute_reply": "2020-08-27T14:13:13.415111Z"
    },
    "papermill": {
     "duration": 0.071949,
     "end_time": "2020-08-27T14:13:13.416119",
     "exception": false,
     "start_time": "2020-08-27T14:13:13.344170",
     "status": "completed"
    },
    "tags": []
   },
   "outputs": [],
   "source": [
    "# Loading the data (cat/non-cat)\n",
    "train_set_x_orig, train_set_y, test_set_x_orig, test_set_y, classes = load_dataset()"
   ]
  },
  {
   "cell_type": "code",
   "execution_count": 3,
   "metadata": {
    "execution": {
     "iopub.execute_input": "2020-08-27T14:13:13.461408Z",
     "iopub.status.busy": "2020-08-27T14:13:13.460676Z",
     "iopub.status.idle": "2020-08-27T14:13:13.772804Z",
     "shell.execute_reply": "2020-08-27T14:13:13.772049Z"
    },
    "papermill": {
     "duration": 0.338282,
     "end_time": "2020-08-27T14:13:13.772939",
     "exception": false,
     "start_time": "2020-08-27T14:13:13.434657",
     "status": "completed"
    },
    "tags": []
   },
   "outputs": [
    {
     "name": "stdout",
     "output_type": "stream",
     "text": [
      "y = [1], it's a 'cat' picture.\n"
     ]
    },
    {
     "data": {
      "image/png": "[encoded data removed]",
      "text/plain": [
       "<Figure size 432x288 with 1 Axes>"
      ]
     },
     "metadata": {
      "needs_background": "light"
     },
     "output_type": "display_data"
    }
   ],
   "source": [
    "# Example of a picture\n",
    "index = 7\n",
    "plt.imshow(train_set_x_orig[index])\n",
    "print (\"y = \" + str(train_set_y[:, index]) + \", it's a '\" + classes[np.squeeze(train_set_y[:, index])].decode(\"utf-8\") +  \"' picture.\")"
   ]
  },
  {
   "cell_type": "code",
   "execution_count": 4,
   "metadata": {
    "execution": {
     "iopub.execute_input": "2020-08-27T14:13:13.825694Z",
     "iopub.status.busy": "2020-08-27T14:13:13.824426Z",
     "iopub.status.idle": "2020-08-27T14:13:13.832224Z",
     "shell.execute_reply": "2020-08-27T14:13:13.831589Z"
    },
    "papermill": {
     "duration": 0.038145,
     "end_time": "2020-08-27T14:13:13.832352",
     "exception": false,
     "start_time": "2020-08-27T14:13:13.794207",
     "status": "completed"
    },
    "tags": []
   },
   "outputs": [
    {
     "name": "stdout",
     "output_type": "stream",
     "text": [
      "Number of training examples: m_train = 209\n",
      "Number of testing examples: m_test = 50\n",
      "Height/Width of each image: num_px = 64\n",
      "Each image is of size: (64, 64, 3)\n",
      "train_set_x shape: (209, 64, 64, 3)\n",
      "train_set_y shape: (1, 209)\n",
      "test_set_x shape: (50, 64, 64, 3)\n",
      "test_set_y shape: (1, 50)\n"
     ]
    }
   ],
   "source": [
    "m_train = train_set_x_orig.shape[0]\n",
    "m_test = test_set_x_orig.shape[0]\n",
    "num_px = test_set_x_orig.shape[1]\n",
    "print (\"Number of training examples: m_train = \" + str(m_train))\n",
    "print (\"Number of testing examples: m_test = \" + str(m_test))\n",
    "print (\"Height/Width of each image: num_px = \" + str(num_px))\n",
    "print (\"Each image is of size: (\" + str(num_px) + \", \" + str(num_px) + \", 3)\")\n",
    "print (\"train_set_x shape: \" + str(train_set_x_orig.shape))\n",
    "print (\"train_set_y shape: \" + str(train_set_y.shape))\n",
    "print (\"test_set_x shape: \" + str(test_set_x_orig.shape))\n",
    "print (\"test_set_y shape: \" + str(test_set_y.shape))"
   ]
  },
  {
   "cell_type": "code",
   "execution_count": 5,
   "metadata": {
    "execution": {
     "iopub.execute_input": "2020-08-27T14:13:13.886209Z",
     "iopub.status.busy": "2020-08-27T14:13:13.885214Z",
     "iopub.status.idle": "2020-08-27T14:13:13.889009Z",
     "shell.execute_reply": "2020-08-27T14:13:13.889873Z"
    },
    "papermill": {
     "duration": 0.036196,
     "end_time": "2020-08-27T14:13:13.890084",
     "exception": false,
     "start_time": "2020-08-27T14:13:13.853888",
     "status": "completed"
    },
    "tags": []
   },
   "outputs": [
    {
     "name": "stdout",
     "output_type": "stream",
     "text": [
      "train_set_x_flatten shape: (12288, 209)\n",
      "train_set_y shape: (1, 209)\n",
      "test_set_x_flatten shape: (12288, 50)\n",
      "test_set_y shape: (1, 50)\n",
      "sanity check after reshaping: [17 31 56 22 33]\n"
     ]
    }
   ],
   "source": [
    "# Reshape the training and test examples\n",
    "train_set_x_flatten = train_set_x_orig.reshape(train_set_x_orig.shape[0], -1).T \n",
    "test_set_x_flatten = test_set_x_orig.reshape(test_set_x_orig.shape[0], -1).T \n",
    "print (\"train_set_x_flatten shape: \" + str(train_set_x_flatten.shape))\n",
    "print (\"train_set_y shape: \" + str(train_set_y.shape))\n",
    "print (\"test_set_x_flatten shape: \" + str(test_set_x_flatten.shape))\n",
    "print (\"test_set_y shape: \" + str(test_set_y.shape))\n",
    "print (\"sanity check after reshaping: \" + str(train_set_x_flatten[0:5,0]))"
   ]
  },
  {
   "cell_type": "code",
   "execution_count": 6,
   "metadata": {
    "execution": {
     "iopub.execute_input": "2020-08-27T14:13:13.940993Z",
     "iopub.status.busy": "2020-08-27T14:13:13.940102Z",
     "iopub.status.idle": "2020-08-27T14:13:13.961065Z",
     "shell.execute_reply": "2020-08-27T14:13:13.961689Z"
    },
    "papermill": {
     "duration": 0.048289,
     "end_time": "2020-08-27T14:13:13.961897",
     "exception": false,
     "start_time": "2020-08-27T14:13:13.913608",
     "status": "completed"
    },
    "tags": []
   },
   "outputs": [],
   "source": [
    "train_set_x = train_set_x_flatten/255.\n",
    "test_set_x = test_set_x_flatten/255."
   ]
  },
  {
   "cell_type": "code",
   "execution_count": 7,
   "metadata": {
    "execution": {
     "iopub.execute_input": "2020-08-27T14:13:14.013217Z",
     "iopub.status.busy": "2020-08-27T14:13:14.012437Z",
     "iopub.status.idle": "2020-08-27T14:13:14.016566Z",
     "shell.execute_reply": "2020-08-27T14:13:14.015797Z"
    },
    "papermill": {
     "duration": 0.032989,
     "end_time": "2020-08-27T14:13:14.016698",
     "exception": false,
     "start_time": "2020-08-27T14:13:13.983709",
     "status": "completed"
    },
    "tags": []
   },
   "outputs": [],
   "source": [
    "def sigmoid(z):\n",
    "    s = 1 / (1 + np.exp(-z))\n",
    "    return s"
   ]
  },
  {
   "cell_type": "code",
   "execution_count": 8,
   "metadata": {
    "execution": {
     "iopub.execute_input": "2020-08-27T14:13:14.070093Z",
     "iopub.status.busy": "2020-08-27T14:13:14.068981Z",
     "iopub.status.idle": "2020-08-27T14:13:14.072746Z",
     "shell.execute_reply": "2020-08-27T14:13:14.073348Z"
    },
    "papermill": {
     "duration": 0.034755,
     "end_time": "2020-08-27T14:13:14.073541",
     "exception": false,
     "start_time": "2020-08-27T14:13:14.038786",
     "status": "completed"
    },
    "tags": []
   },
   "outputs": [
    {
     "name": "stdout",
     "output_type": "stream",
     "text": [
      "sigmoid([0, 2]) = [0.5        0.88079708]\n"
     ]
    }
   ],
   "source": [
    "print (\"sigmoid([0, 2]) = \" + str(sigmoid(np.array([0,2]))))"
   ]
  },
  {
   "cell_type": "code",
   "execution_count": 9,
   "metadata": {
    "execution": {
     "iopub.execute_input": "2020-08-27T14:13:14.130759Z",
     "iopub.status.busy": "2020-08-27T14:13:14.129633Z",
     "iopub.status.idle": "2020-08-27T14:13:14.133323Z",
     "shell.execute_reply": "2020-08-27T14:13:14.132660Z"
    },
    "papermill": {
     "duration": 0.035531,
     "end_time": "2020-08-27T14:13:14.133445",
     "exception": false,
     "start_time": "2020-08-27T14:13:14.097914",
     "status": "completed"
    },
    "tags": []
   },
   "outputs": [],
   "source": [
    "def initialize_with_zeros(dim):\n",
    "    w = np.zeros((dim, 1))\n",
    "    b = 0\n",
    "    assert(w.shape == (dim, 1))\n",
    "    assert(isinstance(b, float) or isinstance(b, int))\n",
    "    return w, b"
   ]
  },
  {
   "cell_type": "code",
   "execution_count": 10,
   "metadata": {
    "execution": {
     "iopub.execute_input": "2020-08-27T14:13:14.187265Z",
     "iopub.status.busy": "2020-08-27T14:13:14.186113Z",
     "iopub.status.idle": "2020-08-27T14:13:14.191380Z",
     "shell.execute_reply": "2020-08-27T14:13:14.190279Z"
    },
    "papermill": {
     "duration": 0.035103,
     "end_time": "2020-08-27T14:13:14.191548",
     "exception": false,
     "start_time": "2020-08-27T14:13:14.156445",
     "status": "completed"
    },
    "tags": []
   },
   "outputs": [
    {
     "name": "stdout",
     "output_type": "stream",
     "text": [
      "w = [[0.]\n",
      " [0.]]\n",
      "b = 0\n"
     ]
    }
   ],
   "source": [
    "dim = 2\n",
    "w, b = initialize_with_zeros(dim)\n",
    "print (\"w = \" + str(w))\n",
    "print (\"b = \" + str(b))"
   ]
  },
  {
   "cell_type": "code",
   "execution_count": 11,
   "metadata": {
    "execution": {
     "iopub.execute_input": "2020-08-27T14:13:14.252975Z",
     "iopub.status.busy": "2020-08-27T14:13:14.252050Z",
     "iopub.status.idle": "2020-08-27T14:13:14.255729Z",
     "shell.execute_reply": "2020-08-27T14:13:14.255036Z"
    },
    "papermill": {
     "duration": 0.039611,
     "end_time": "2020-08-27T14:13:14.255863",
     "exception": false,
     "start_time": "2020-08-27T14:13:14.216252",
     "status": "completed"
    },
    "tags": []
   },
   "outputs": [],
   "source": [
    "def propagate(w, b, X, Y):\n",
    "    m = X.shape[1]\n",
    "    # FORWARD PROPAGATION (FROM X TO COST)\n",
    "    A = sigmoid(np.dot(w.T, X) + b) # compute activation\n",
    "    cost = -1.0 / m * np.sum(Y * np.log(A) + (1-Y) * np.log(1 - A)) # compute cost\n",
    "    # BACKWARD PROPAGATION (TO FIND GRAD)\n",
    "    dw = 1.0 / m * np.dot(X, (A - Y).T)\n",
    "    db = 1.0 / m * np.sum(A - Y)\n",
    "    assert(dw.shape == w.shape)\n",
    "    assert(db.dtype == float)\n",
    "    cost = np.squeeze(cost)\n",
    "    assert(cost.shape == ())\n",
    "    grads = {\"dw\": dw,\n",
    "             \"db\": db}\n",
    "    return grads, cost"
   ]
  },
  {
   "cell_type": "code",
   "execution_count": 12,
   "metadata": {
    "execution": {
     "iopub.execute_input": "2020-08-27T14:13:14.314427Z",
     "iopub.status.busy": "2020-08-27T14:13:14.313516Z",
     "iopub.status.idle": "2020-08-27T14:13:14.320800Z",
     "shell.execute_reply": "2020-08-27T14:13:14.319838Z"
    },
    "papermill": {
     "duration": 0.04099,
     "end_time": "2020-08-27T14:13:14.320987",
     "exception": false,
     "start_time": "2020-08-27T14:13:14.279997",
     "status": "completed"
    },
    "tags": []
   },
   "outputs": [
    {
     "name": "stdout",
     "output_type": "stream",
     "text": [
      "dw = [[0.99845601]\n",
      " [2.39507239]]\n",
      "db = 0.001455578136784208\n",
      "cost = 5.801545319394553\n"
     ]
    }
   ],
   "source": [
    "w, b, X, Y = np.array([[1.],[2.]]), 2., np.array([[1.,2.,-1.],[3.,4.,-3.2]]), np.array([[1,0,1]])\n",
    "grads, cost = propagate(w, b, X, Y)\n",
    "print (\"dw = \" + str(grads[\"dw\"]))\n",
    "print (\"db = \" + str(grads[\"db\"]))\n",
    "print (\"cost = \" + str(cost))"
   ]
  },
  {
   "cell_type": "code",
   "execution_count": 13,
   "metadata": {
    "execution": {
     "iopub.execute_input": "2020-08-27T14:13:14.383463Z",
     "iopub.status.busy": "2020-08-27T14:13:14.380580Z",
     "iopub.status.idle": "2020-08-27T14:13:14.387438Z",
     "shell.execute_reply": "2020-08-27T14:13:14.386593Z"
    },
    "papermill": {
     "duration": 0.040595,
     "end_time": "2020-08-27T14:13:14.387605",
     "exception": false,
     "start_time": "2020-08-27T14:13:14.347010",
     "status": "completed"
    },
    "tags": []
   },
   "outputs": [],
   "source": [
    "def optimize(w, b, X, Y, num_iterations, learning_rate, print_cost = False):\n",
    "    costs = []    \n",
    "    for i in range(num_iterations):\n",
    "        # Cost and gradient calculation (≈ 1-4 lines of code)\n",
    "        grads, cost = propagate(w, b , X, Y)\n",
    "        # Retrieve derivatives from grads\n",
    "        dw = grads[\"dw\"]\n",
    "        db = grads[\"db\"]\n",
    "        # update rule (≈ 2 lines of code)\n",
    "        w = w - learning_rate * dw\n",
    "        b = b - learning_rate * db\n",
    "        # Record the costs\n",
    "        if i % 100 == 0:\n",
    "            costs.append(cost)\n",
    "        # Print the cost every 100 training iterations\n",
    "        if print_cost and i % 100 == 0:\n",
    "            print (\"Cost after iteration %i: %f\" %(i, cost))\n",
    "    params = {\"w\": w,\n",
    "              \"b\": b}\n",
    "    grads = {\"dw\": dw,\n",
    "             \"db\": db}\n",
    "    return params, grads, costs"
   ]
  },
  {
   "cell_type": "code",
   "execution_count": 14,
   "metadata": {
    "execution": {
     "iopub.execute_input": "2020-08-27T14:13:14.448609Z",
     "iopub.status.busy": "2020-08-27T14:13:14.447427Z",
     "iopub.status.idle": "2020-08-27T14:13:14.465058Z",
     "shell.execute_reply": "2020-08-27T14:13:14.463913Z"
    },
    "papermill": {
     "duration": 0.051334,
     "end_time": "2020-08-27T14:13:14.465265",
     "exception": false,
     "start_time": "2020-08-27T14:13:14.413931",
     "status": "completed"
    },
    "tags": []
   },
   "outputs": [
    {
     "name": "stdout",
     "output_type": "stream",
     "text": [
      "w = [[0.19033591]\n",
      " [0.12259159]]\n",
      "b = 1.9253598300845747\n",
      "dw = [[0.67752042]\n",
      " [1.41625495]]\n",
      "db = 0.21919450454067652\n"
     ]
    }
   ],
   "source": [
    "params, grads, costs = optimize(w, b, X, Y, num_iterations= 100, learning_rate = 0.009, print_cost = False)\n",
    "print (\"w = \" + str(params[\"w\"]))\n",
    "print (\"b = \" + str(params[\"b\"]))\n",
    "print (\"dw = \" + str(grads[\"dw\"]))\n",
    "print (\"db = \" + str(grads[\"db\"]))"
   ]
  },
  {
   "cell_type": "code",
   "execution_count": 15,
   "metadata": {
    "execution": {
     "iopub.execute_input": "2020-08-27T14:13:14.527336Z",
     "iopub.status.busy": "2020-08-27T14:13:14.526404Z",
     "iopub.status.idle": "2020-08-27T14:13:14.530244Z",
     "shell.execute_reply": "2020-08-27T14:13:14.529452Z"
    },
    "papermill": {
     "duration": 0.039436,
     "end_time": "2020-08-27T14:13:14.530387",
     "exception": false,
     "start_time": "2020-08-27T14:13:14.490951",
     "status": "completed"
    },
    "tags": []
   },
   "outputs": [],
   "source": [
    "def predict(w, b, X):\n",
    "    m = X.shape[1]\n",
    "    Y_prediction = np.zeros((1,m))\n",
    "    w = w.reshape(X.shape[0], 1)\n",
    "    # Compute vector \"A\" predicting the probabilities of a cat being present in the picture\n",
    "    A = sigmoid(np.dot(w.T, X) + b)\n",
    "    for i in range(A.shape[1]):\n",
    "        # Convert probabilities A[0,i] to actual predictions p[0,i]\n",
    "        if A[0,i] <= 0.5:\n",
    "            Y_prediction[0, i] = 0\n",
    "        else:\n",
    "            Y_prediction[0, i] = 1\n",
    "    assert(Y_prediction.shape == (1, m))\n",
    "    return Y_prediction"
   ]
  },
  {
   "cell_type": "code",
   "execution_count": 16,
   "metadata": {
    "execution": {
     "iopub.execute_input": "2020-08-27T14:13:14.590848Z",
     "iopub.status.busy": "2020-08-27T14:13:14.589825Z",
     "iopub.status.idle": "2020-08-27T14:13:14.593365Z",
     "shell.execute_reply": "2020-08-27T14:13:14.594415Z"
    },
    "papermill": {
     "duration": 0.038855,
     "end_time": "2020-08-27T14:13:14.594604",
     "exception": false,
     "start_time": "2020-08-27T14:13:14.555749",
     "status": "completed"
    },
    "tags": []
   },
   "outputs": [
    {
     "name": "stdout",
     "output_type": "stream",
     "text": [
      "predictions = [[1. 1. 0.]]\n"
     ]
    }
   ],
   "source": [
    "w = np.array([[0.1124579],[0.23106775]])\n",
    "b = -0.3\n",
    "X = np.array([[1.,-1.1,-3.2],[1.2,2.,0.1]])\n",
    "print (\"predictions = \" + str(predict(w, b, X)))"
   ]
  },
  {
   "cell_type": "code",
   "execution_count": 17,
   "metadata": {
    "execution": {
     "iopub.execute_input": "2020-08-27T14:13:14.659943Z",
     "iopub.status.busy": "2020-08-27T14:13:14.659136Z",
     "iopub.status.idle": "2020-08-27T14:13:14.663118Z",
     "shell.execute_reply": "2020-08-27T14:13:14.662522Z"
    },
    "papermill": {
     "duration": 0.043143,
     "end_time": "2020-08-27T14:13:14.663247",
     "exception": false,
     "start_time": "2020-08-27T14:13:14.620104",
     "status": "completed"
    },
    "tags": []
   },
   "outputs": [],
   "source": [
    "def model(X_train, Y_train, X_test, Y_test, num_iterations = 2000, learning_rate = 0.5, print_cost = False):\n",
    "    # initialize parameters with zeros (≈ 1 line of code)\n",
    "    w, b = initialize_with_zeros(X_train.shape[0])\n",
    "    # Gradient descent (≈ 1 line of code)\n",
    "    parameters, grads, costs = optimize(w, b, X_train, Y_train, num_iterations = num_iterations, learning_rate = learning_rate, print_cost = print_cost)\n",
    "    # Retrieve parameters w and b from dictionary \"parameters\"\n",
    "    w = parameters[\"w\"]\n",
    "    b = parameters[\"b\"]\n",
    "    # Predict test/train set examples (≈ 2 lines of code)\n",
    "    Y_prediction_test = predict(w, b, X_test)\n",
    "    Y_prediction_train = predict(w, b, X_train)\n",
    "    # Print train/test Errors\n",
    "    print(\"train accuracy: {} %\".format(100 - np.mean(np.abs(Y_prediction_train - Y_train)) * 100))\n",
    "    print(\"test accuracy: {} %\".format(100 - np.mean(np.abs(Y_prediction_test - Y_test)) * 100))\n",
    "    d = {\"costs\": costs,\n",
    "         \"Y_prediction_test\": Y_prediction_test, \n",
    "         \"Y_prediction_train\" : Y_prediction_train, \n",
    "         \"w\" : w, \n",
    "         \"b\" : b,\n",
    "         \"learning_rate\" : learning_rate,\n",
    "         \"num_iterations\": num_iterations}\n",
    "    return d"
   ]
  },
  {
   "cell_type": "code",
   "execution_count": 18,
   "metadata": {
    "execution": {
     "iopub.execute_input": "2020-08-27T14:13:14.720993Z",
     "iopub.status.busy": "2020-08-27T14:13:14.720180Z",
     "iopub.status.idle": "2020-08-27T14:13:17.462459Z",
     "shell.execute_reply": "2020-08-27T14:13:17.463143Z"
    },
    "papermill": {
     "duration": 2.774429,
     "end_time": "2020-08-27T14:13:17.463315",
     "exception": false,
     "start_time": "2020-08-27T14:13:14.688886",
     "status": "completed"
    },
    "tags": []
   },
   "outputs": [
    {
     "name": "stdout",
     "output_type": "stream",
     "text": [
      "Cost after iteration 0: 0.693147\n",
      "Cost after iteration 100: 0.584508\n",
      "Cost after iteration 200: 0.466949\n",
      "Cost after iteration 300: 0.376007\n",
      "Cost after iteration 400: 0.331463\n",
      "Cost after iteration 500: 0.303273\n",
      "Cost after iteration 600: 0.279880\n",
      "Cost after iteration 700: 0.260042\n",
      "Cost after iteration 800: 0.242941\n",
      "Cost after iteration 900: 0.228004\n",
      "Cost after iteration 1000: 0.214820\n",
      "Cost after iteration 1100: 0.203078\n",
      "Cost after iteration 1200: 0.192544\n",
      "Cost after iteration 1300: 0.183033\n",
      "Cost after iteration 1400: 0.174399\n",
      "Cost after iteration 1500: 0.166521\n",
      "Cost after iteration 1600: 0.159305\n",
      "Cost after iteration 1700: 0.152667\n",
      "Cost after iteration 1800: 0.146542\n",
      "Cost after iteration 1900: 0.140872\n",
      "train accuracy: 99.04306220095694 %\n",
      "test accuracy: 70.0 %\n"
     ]
    }
   ],
   "source": [
    "d = model(train_set_x, train_set_y, test_set_x, test_set_y, num_iterations = 2000, learning_rate = 0.005, print_cost = True)"
   ]
  },
  {
   "cell_type": "code",
   "execution_count": 19,
   "metadata": {
    "execution": {
     "iopub.execute_input": "2020-08-27T14:13:17.545827Z",
     "iopub.status.busy": "2020-08-27T14:13:17.540788Z",
     "iopub.status.idle": "2020-08-27T14:13:17.711334Z",
     "shell.execute_reply": "2020-08-27T14:13:17.710709Z"
    },
    "papermill": {
     "duration": 0.213912,
     "end_time": "2020-08-27T14:13:17.711457",
     "exception": false,
     "start_time": "2020-08-27T14:13:17.497545",
     "status": "completed"
    },
    "tags": []
   },
   "outputs": [
    {
     "name": "stdout",
     "output_type": "stream",
     "text": [
      "1\n",
      "1.0\n",
      "y = 1, you predicted that it is a \"cat\" picture.\n"
     ]
    },
    {
     "data": {
      "image/png": "[encoded data removed]",
      "text/plain": [
       "<Figure size 432x288 with 1 Axes>"
      ]
     },
     "metadata": {
      "needs_background": "light"
     },
     "output_type": "display_data"
    }
   ],
   "source": [
    "import math\n",
    "# Example of a picture that was wrongly classified.\n",
    "index = 7\n",
    "plt.imshow(test_set_x[:,index].reshape((num_px, num_px, 3)))\n",
    "y1 = str(test_set_y[0,index])\n",
    "print(y1)\n",
    "d1 = d[\"Y_prediction_test\"][0,index]\n",
    "print(d1)\n",
    "a1 = classes[math.floor(d1)].decode(\"utf-8\")\n",
    "print (\"y = \" + y1 + \", you predicted that it is a \\\"\" + a1 +  \"\\\" picture.\")"
   ]
  },
  {
   "cell_type": "code",
   "execution_count": 20,
   "metadata": {
    "execution": {
     "iopub.execute_input": "2020-08-27T14:13:17.790910Z",
     "iopub.status.busy": "2020-08-27T14:13:17.790097Z",
     "iopub.status.idle": "2020-08-27T14:13:17.962209Z",
     "shell.execute_reply": "2020-08-27T14:13:17.961459Z"
    },
    "papermill": {
     "duration": 0.21496,
     "end_time": "2020-08-27T14:13:17.962327",
     "exception": false,
     "start_time": "2020-08-27T14:13:17.747367",
     "status": "completed"
    },
    "tags": []
   },
   "outputs": [
    {
     "data": {
      "image/png": "[encoded data removed]",
      "text/plain": [
       "<Figure size 432x288 with 1 Axes>"
      ]
     },
     "metadata": {
      "needs_background": "light"
     },
     "output_type": "display_data"
    }
   ],
   "source": [
    "# Plot learning curve (with costs)\n",
    "costs = np.squeeze(d['costs'])\n",
    "plt.plot(costs)\n",
    "plt.ylabel('cost')\n",
    "plt.xlabel('iterations (per hundreds)')\n",
    "plt.title(\"Learning rate =\" + str(d[\"learning_rate\"]))\n",
    "plt.show()"
   ]
  },
  {
   "cell_type": "code",
   "execution_count": 21,
   "metadata": {
    "execution": {
     "iopub.execute_input": "2020-08-27T14:13:18.050000Z",
     "iopub.status.busy": "2020-08-27T14:13:18.048446Z",
     "iopub.status.idle": "2020-08-27T14:13:23.652063Z",
     "shell.execute_reply": "2020-08-27T14:13:23.651340Z"
    },
    "papermill": {
     "duration": 5.653223,
     "end_time": "2020-08-27T14:13:23.652210",
     "exception": false,
     "start_time": "2020-08-27T14:13:17.998987",
     "status": "completed"
    },
    "tags": []
   },
   "outputs": [
    {
     "name": "stdout",
     "output_type": "stream",
     "text": [
      "learning rate is: 0.01\n",
      "train accuracy: 99.52153110047847 %\n",
      "test accuracy: 68.0 %\n",
      "\n",
      "-------------------------------------------------------\n",
      "\n",
      "learning rate is: 0.001\n",
      "train accuracy: 88.99521531100478 %\n",
      "test accuracy: 64.0 %\n",
      "\n",
      "-------------------------------------------------------\n",
      "\n",
      "learning rate is: 0.0001\n",
      "train accuracy: 68.42105263157895 %\n",
      "test accuracy: 36.0 %\n",
      "\n",
      "-------------------------------------------------------\n",
      "\n"
     ]
    },
    {
     "data": {
      "image/png": "[encoded data removed]",
      "text/plain": [
       "<Figure size 432x288 with 1 Axes>"
      ]
     },
     "metadata": {
      "needs_background": "light"
     },
     "output_type": "display_data"
    }
   ],
   "source": [
    "learning_rates = [0.01, 0.001, 0.0001]\n",
    "models = {}\n",
    "for i in learning_rates:\n",
    "    print (\"learning rate is: \" + str(i))\n",
    "    models[str(i)] = model(train_set_x, train_set_y, test_set_x, test_set_y, num_iterations = 1500, learning_rate = i, print_cost = False)\n",
    "    print ('\\n' + \"-------------------------------------------------------\" + '\\n')\n",
    "\n",
    "for i in learning_rates:\n",
    "    plt.plot(np.squeeze(models[str(i)][\"costs\"]), label= str(models[str(i)][\"learning_rate\"]))\n",
    "\n",
    "plt.ylabel('cost')\n",
    "plt.xlabel('iterations (hundreds)')\n",
    "\n",
    "legend = plt.legend(loc='upper center', shadow=True)\n",
    "frame = legend.get_frame()\n",
    "frame.set_facecolor('0.90')\n",
    "plt.show()"
   ]
  },
  {
   "cell_type": "code",
   "execution_count": 22,
   "metadata": {
    "execution": {
     "iopub.execute_input": "2020-08-27T14:13:23.742895Z",
     "iopub.status.busy": "2020-08-27T14:13:23.741823Z",
     "iopub.status.idle": "2020-08-27T14:13:23.944810Z",
     "shell.execute_reply": "2020-08-27T14:13:23.944126Z"
    },
    "papermill": {
     "duration": 0.252565,
     "end_time": "2020-08-27T14:13:23.944939",
     "exception": false,
     "start_time": "2020-08-27T14:13:23.692374",
     "status": "completed"
    },
    "tags": []
   },
   "outputs": [
    {
     "name": "stdout",
     "output_type": "stream",
     "text": [
      "y = 1.0, your algorithm predicts a \"cat\" picture.\n"
     ]
    },
    {
     "data": {
      "image/png": "[encoded data removed]",
      "text/plain": [
       "<Figure size 432x288 with 1 Axes>"
      ]
     },
     "metadata": {
      "needs_background": "light"
     },
     "output_type": "display_data"
    }
   ],
   "source": [
    "my_image = \"my_image4.jpg\" # change this to the name of your image file \n",
    "# We preprocess the image to fit your algorithm.\n",
    "fname = \"../input/catvsnoncat/\" + my_image\n",
    "import matplotlib\n",
    "matplotlib.pyplot\n",
    "# image = np.array(ndimage.imread(fname, flatten=False))\n",
    "image = np.array(matplotlib.pyplot.imread(fname))\n",
    "image = image/255.\n",
    "# original\n",
    "# my_image = scipy.misc.imresize(image, size=(num_px,num_px)).reshape((1, num_px*num_px*3)).T\n",
    "# stackoverflow\n",
    "# from PIL import Image\n",
    "# my_image = Image.fromarray(image).resize(size=(num_px, num_px))\n",
    "# without resize\n",
    "my_image = image.reshape((1, num_px*num_px*3)).T\n",
    "my_predicted_image = predict(d[\"w\"], d[\"b\"], my_image)\n",
    "plt.imshow(image)\n",
    "print(\"y = \" + str(np.squeeze(my_predicted_image)) + \", your algorithm predicts a \\\"\" + classes[int(np.squeeze(my_predicted_image)),].decode(\"utf-8\") +  \"\\\" picture.\")\n",
    "\n"
   ]
  }
 ],
 "metadata": {
  "kernelspec": {
   "display_name": "Python 3 (ipykernel)",
   "language": "python",
   "name": "python3"
  },
  "language_info": {
   "codemirror_mode": {
    "name": "ipython",
    "version": 3
   },
   "file_extension": ".py",
   "mimetype": "text/x-python",
   "name": "python",
   "nbconvert_exporter": "python",
   "pygments_lexer": "ipython3",
   "version": "3.8.0"
  },
  "papermill": {
   "duration": 16.784815,
   "end_time": "2020-08-27T14:13:24.095657",
   "environment_variables": {},
   "exception": null,
   "input_path": "__notebook__.ipynb",
   "output_path": "__notebook__.ipynb",
   "parameters": {},
   "start_time": "2020-08-27T14:13:07.310842",
   "version": "2.1.0"
  }
 },
 "nbformat": 4,
 "nbformat_minor": 4
}
